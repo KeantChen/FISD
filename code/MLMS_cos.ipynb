{
 "cells": [
  {
   "cell_type": "code",
   "execution_count": null,
   "id": "475442cb-8083-4f61-8816-1c26ca02da8d",
   "metadata": {},
   "outputs": [],
   "source": [
    "#MLMS_part1_COS"
   ]
  },
  {
   "cell_type": "code",
   "execution_count": null,
   "id": "10d5f178-5133-4361-ab6e-8ae583054984",
   "metadata": {},
   "outputs": [],
   "source": [
    "import numpy as np\n",
    "import pandas as pd\n",
    "import os\n",
    "import matplotlib.pyplot as plt\n",
    "import torch\n",
    "from torch_geometric.loader import DataLoader\n",
    "import torch.nn as nn\n",
    "from torch_geometric.nn import GCNConv,EdgeConv\n",
    "from torch_geometric.nn import global_mean_pool,global_max_pool\n",
    "from torch.utils.data import random_split\n",
    "import torch.nn.functional as F\n",
    "from tqdm import trange"
   ]
  },
  {
   "cell_type": "code",
   "execution_count": null,
   "id": "3b4b3f64-afaf-4f5f-968a-4c61905e058f",
   "metadata": {},
   "outputs": [],
   "source": [
    "raw_data = torch.load(\"/home/chengc/workspace/cc/new_exp_0427/data/qm9_ir_broaden/qm9_input.pt\")"
   ]
  },
  {
   "cell_type": "code",
   "execution_count": null,
   "id": "98f0ccad-d31a-47ca-877b-6bbabf1c37c2",
   "metadata": {},
   "outputs": [],
   "source": [
    "num_train = int(len(raw_data)*0.8)\n",
    "num_val = int(len(raw_data)-num_train)\n",
    "train_data,test_data = random_split(dataset = raw_data,lengths = [num_train,num_val],generator = torch.Generator().manual_seed(42))\n",
    "batch_size = 64\n",
    "train_loader = DataLoader(train_data, batch_size = batch_size, shuffle = True)\n",
    "test_loader = DataLoader(test_data, batch_size = len(test_data))\n",
    "device = torch.device('cuda:1' if torch.cuda.is_available() else 'cpu')"
   ]
  },
  {
   "cell_type": "code",
   "execution_count": null,
   "id": "e22c4ec3-a969-4880-9f08-7083f6587050",
   "metadata": {},
   "outputs": [],
   "source": [
    "hidden_channels = 512\n",
    "cos_ratio = 1\n",
    "mse_ratio = 0\n",
    "lr = 0.0001\n",
    "class GNN(nn.Module):\n",
    "    \n",
    "    def __init__(self):\n",
    "        super().__init__()\n",
    "        torch.manual_seed(42)\n",
    "       \n",
    "        self.conv1 = GCNConv(45, hidden_channels)\n",
    "        self.conv2 = GCNConv(hidden_channels,hidden_channels)\n",
    "        self.conv3 = GCNConv(hidden_channels,hidden_channels)\n",
    "        self.conv4 = GCNConv(hidden_channels,hidden_channels)\n",
    "        self.conv5 = GCNConv(hidden_channels,hidden_channels)\n",
    "        \n",
    "        self.lin1 = nn.Linear(2*hidden_channels,hidden_channels)\n",
    "        self.lin2 = nn.Linear(hidden_channels,hidden_channels)\n",
    "        self.out = nn.Linear(hidden_channels, 50)\n",
    "        \n",
    "        self.loss_function1 = nn.CosineEmbeddingLoss(margin=0)\n",
    "        self.loss_function2 = nn.MSELoss()\n",
    "        self.optimizer = torch.optim.Adam(self.parameters(), lr=lr, weight_decay=5e-4)\n",
    "        self.counter=0\n",
    "        self.progress = []\n",
    "        \n",
    "    def forward(self, x, edge_index, batch):\n",
    "        \n",
    "        x = x.to(device)\n",
    "        edge_index = edge_index.to(device)\n",
    "        batch = batch.to(device)\n",
    "        \n",
    "        x=self.conv1(x, edge_index)\n",
    "        x = x.relu()\n",
    "        x=self.conv2(x, edge_index)\n",
    "        x = x.relu()\n",
    "        x=self.conv3(x, edge_index)\n",
    "        x = x.relu()\n",
    "        x=self.conv4(x, edge_index)\n",
    "        x = x.relu()\n",
    "        x=self.conv5(x, edge_index)\n",
    "        x = x.relu()\n",
    "        \n",
    "        x = torch.cat((global_mean_pool(x,batch),global_max_pool(x,batch)),dim=1)\n",
    "        x = self.lin1(x)\n",
    "        x = x.relu()\n",
    "        x = self.lin2(x)\n",
    "        x = x.relu()\n",
    "        out = self.out(x)\n",
    "        return out\n",
    "    \n",
    "    def train(self,data):\n",
    "        \n",
    "        self.optimizer.zero_grad()\n",
    "        \n",
    "        outputs = self.forward(data.x.float(),data.edge_index,data.batch)\n",
    "        y = data.y.to(device)\n",
    "        batch_size = data.batch_size\n",
    "        target = torch.ones(batch_size)\n",
    "        target = target.to(device)\n",
    "        loss = cos_ratio*self.loss_function1(outputs.to(torch.float32),y.view(batch_size,50).to(torch.float32),target)+mse_ratio*self.loss_function2(outputs.to(torch.float32),y.view(batch_size,50).to(torch.float32))\n",
    "        \n",
    "        self.progress.append(loss.item())        \n",
    "        loss.backward()\n",
    "        self.optimizer.step()\n",
    "        \n",
    "        return loss\n",
    "        \n",
    "    def test(self,data):\n",
    "        outputs = self.forward(data.x.float(),data.edge_index,data.batch)\n",
    "        target = torch.ones(len(test_data))\n",
    "        target = target.to(device)\n",
    "        y = data.y.to(device)\n",
    "        acc = cos_ratio*self.loss_function1(outputs.to(torch.float32),y.view(len(test_data),50).to(torch.float32),target)+mse_ratio*self.loss_function2(outputs.to(torch.float32),y.view(len(test_data),50).to(torch.float32))\n",
    "        return acc\n",
    "    \n",
    "    def pred(self,data):\n",
    "        outputs = self.forward(data.x.float(),data.edge_index,data.batch)\n",
    "        return outputs\n",
    "    "
   ]
  },
  {
   "cell_type": "code",
   "execution_count": null,
   "id": "3f85e44e-ec35-470b-b5d5-89178f7c7db6",
   "metadata": {},
   "outputs": [],
   "source": [
    "model = GNN()\n",
    "model.to(device)"
   ]
  },
  {
   "cell_type": "code",
   "execution_count": null,
   "id": "172f2eca-d7bd-4cef-a06d-0b4f1c6c2ed1",
   "metadata": {
    "scrolled": true
   },
   "outputs": [],
   "source": [
    "loss_min = 100\n",
    "model_path = '/home/chengc/workspace/cc/0815/model/qm_9_cos_model.pth'\n",
    "model_path_ckp = '/home/chengc/workspace/cc/0815/model/qm_9_cos_model_ckp.pth'\n",
    "for epoch in trange(5000):\n",
    "    for data in train_loader:\n",
    "        loss = model.train(data)\n",
    "    #print(f\"Epoch {epoch} | Training loss {loss}\")\n",
    "    for datat in test_loader:\n",
    "        val_l = []\n",
    "        acc = model.test(datat)\n",
    "        val_l.append(acc)\n",
    "    val_loss = torch.stack(val_l,dim=0).mean(dim=0)\n",
    "    #print(f\"Epoch {epoch} | Validation loss {val_loss}\")\n",
    "    if val_loss < loss_min:\n",
    "        print(f\"Epoch {epoch} | Training loss {loss}| Validation loss {val_loss}\")\n",
    "        torch.save(model.state_dict(),model_path)\n",
    "        print(\"save model\")\n",
    "        loss_min = val_loss\n",
    "    if epoch % 100 == 0:\n",
    "        print(f\"_Epoch {epoch} | Training loss {loss}| Validation loss {val_loss}\")\n",
    "        torch.save(model.state_dict(),model_path_ckp)"
   ]
  },
  {
   "cell_type": "code",
   "execution_count": null,
   "id": "4317e08b-e234-4a1f-8f10-6b21e377ee99",
   "metadata": {},
   "outputs": [],
   "source": [
    "#Epoch 1654 | Training loss 0.0457187183201313| Validation loss 0.06154229864478111\n",
    "#save model"
   ]
  }
 ],
 "metadata": {
  "kernelspec": {
   "display_name": "Python 3 (ipykernel)",
   "language": "python",
   "name": "python3"
  },
  "language_info": {
   "codemirror_mode": {
    "name": "ipython",
    "version": 3
   },
   "file_extension": ".py",
   "mimetype": "text/x-python",
   "name": "python",
   "nbconvert_exporter": "python",
   "pygments_lexer": "ipython3",
   "version": "3.9.18"
  }
 },
 "nbformat": 4,
 "nbformat_minor": 5
}
