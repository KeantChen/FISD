{
 "cells": [
  {
   "cell_type": "code",
   "execution_count": null,
   "id": "2f1ea60d-dcc9-4a7e-8748-ffe673fc0f61",
   "metadata": {},
   "outputs": [],
   "source": []
  },
  {
   "cell_type": "code",
   "execution_count": 1,
   "id": "c106d54b-adfe-49df-92a6-9a1e11f2b604",
   "metadata": {},
   "outputs": [],
   "source": [
    "import numpy as np\n",
    "import pandas as pd\n",
    "import os\n",
    "import matplotlib.pyplot as plt\n",
    "import torch\n",
    "from torch_geometric.loader import DataLoader\n",
    "import torch.nn as nn\n",
    "from torch.utils.data import random_split\n",
    "from tqdm import trange"
   ]
  },
  {
   "cell_type": "code",
   "execution_count": 2,
   "id": "2add5bd7-dc1d-449a-aceb-179b045d6fa7",
   "metadata": {},
   "outputs": [],
   "source": [
    "hidden_channels = 256\n",
    "class twoinone(nn.Module):\n",
    "    \n",
    "    def __init__(self):\n",
    "        super().__init__()\n",
    "        torch.manual_seed(42)\n",
    "       \n",
    "        self.nn1 = nn.Linear(100, hidden_channels*2)\n",
    "        self.nn2 = nn.Linear(hidden_channels*2,hidden_channels*2)\n",
    "        self.nn3 = nn.Linear(hidden_channels*2,hidden_channels*2)\n",
    "        self.nn4 = nn.Linear(hidden_channels*2,hidden_channels*2)\n",
    "        self.out = nn.Linear(hidden_channels*2, 50)\n",
    "        \n",
    "        self.loss_function = nn.MSELoss()\n",
    "        self.optimizer = torch.optim.Adam(self.parameters(), lr=0.0001, weight_decay=5e-4)\n",
    "        self.counter=0\n",
    "        self.progress = []\n",
    "        \n",
    "    def forward(self,x):\n",
    "        \n",
    "        x = x.to(device)\n",
    "        x=self.nn1(x)\n",
    "        x = x.relu()\n",
    "        x=self.nn2(x)\n",
    "        x = x.relu()\n",
    "        x=self.nn3(x)\n",
    "        x = x.relu()\n",
    "        x=self.nn4(x)\n",
    "        x = x.relu()\n",
    "        out = self.out(x)\n",
    "        \n",
    "        return out\n",
    "    \n",
    "    def train(self,dataloader):\n",
    "        losses=[]\n",
    "        for i in range(len(dataloader)):\n",
    "            data = dataloader[i]\n",
    "            outputs = self.forward(data.x.float())\n",
    "            y = data.y.to(device)\n",
    "            y = y.float()\n",
    "            loss_t = self.loss_function(outputs.to(torch.float32),y.to(torch.float32))\n",
    "            losses.append(loss_t)\n",
    "        loss = torch.stack(losses,dim=0).mean(dim=0)        \n",
    "        #outputs = self.forward(data.x.float())\n",
    "        #y = data.y.to(device)\n",
    "        #y = y.float()\n",
    "        #loss = self.loss_function(outputs.to(torch.float32),y.to(torch.float32))\n",
    "       \n",
    "        self.optimizer.zero_grad()\n",
    "        loss.backward()\n",
    "        self.optimizer.step()\n",
    "        return loss\n",
    "    \n",
    "    def val(self,dataloader):\n",
    "        losses=[]\n",
    "        for i in range(len(dataloader)):\n",
    "            data = dataloader[i]\n",
    "            outputs = self.forward(data.x.float())\n",
    "            y = data.y.to(device)\n",
    "            y = y.float()\n",
    "            loss_t = self.loss_function(outputs.to(torch.float32),y.to(torch.float32))\n",
    "            losses.append(loss_t)\n",
    "        loss = torch.stack(losses,dim=0).mean(dim=0)\n",
    "        return loss\n",
    "    \n",
    "    def pred(self,data):\n",
    "        output = self.forward(data.x.float())\n",
    "        return output"
   ]
  },
  {
   "cell_type": "code",
   "execution_count": 3,
   "id": "4d4d28be-1fee-4512-b921-c27a0bdd062b",
   "metadata": {},
   "outputs": [
    {
     "data": {
      "text/plain": [
       "twoinone(\n",
       "  (nn1): Linear(in_features=100, out_features=512, bias=True)\n",
       "  (nn2): Linear(in_features=512, out_features=512, bias=True)\n",
       "  (nn3): Linear(in_features=512, out_features=512, bias=True)\n",
       "  (nn4): Linear(in_features=512, out_features=512, bias=True)\n",
       "  (out): Linear(in_features=512, out_features=50, bias=True)\n",
       "  (loss_function): MSELoss()\n",
       ")"
      ]
     },
     "execution_count": 3,
     "metadata": {},
     "output_type": "execute_result"
    }
   ],
   "source": [
    "device = torch.device('cuda:1' if torch.cuda.is_available() else 'cpu')\n",
    "model = twoinone()\n",
    "model.to(device)"
   ]
  },
  {
   "cell_type": "code",
   "execution_count": 4,
   "id": "13f97ee6-69b6-4a48-a2f5-4c9a1d824738",
   "metadata": {},
   "outputs": [],
   "source": [
    "data = torch.load(\"/home/chengc/workspace/cc/0815/qm_9_2in1.pt\")\n",
    "train_data,val_data,test_data = random_split(dataset = data,lengths = [100000,20000,7468],generator = torch.Generator().manual_seed(42))\n",
    "train_loader = DataLoader(train_data, batch_size = 64, shuffle = True)\n",
    "val_loader = DataLoader(val_data, batch_size = 64, shuffle = True)"
   ]
  },
  {
   "cell_type": "code",
   "execution_count": 15,
   "id": "0a1e40ef-a4ed-440c-be4d-68286b02572e",
   "metadata": {
    "scrolled": true
   },
   "outputs": [
    {
     "name": "stderr",
     "output_type": "stream",
     "text": [
      "  0%|                                                                                                                                                | 1/2000 [04:04<136:01:06, 244.96s/it]"
     ]
    },
    {
     "name": "stdout",
     "output_type": "stream",
     "text": [
      "Save Model : Epoch 0 | Trainloss 4.895115375518799| Valiloss 4.592116832733154\n",
      "Epoch 0 | Trainloss 4.895115375518799| Valiloss 4.592116832733154\n",
      "Save Model : Epoch 1 | Trainloss 2.7575457096099854| Valiloss 4.522714614868164\n"
     ]
    },
    {
     "name": "stderr",
     "output_type": "stream",
     "text": [
      "  0%|▏                                                                                                                                               | 2/2000 [08:07<135:11:10, 243.58s/it]"
     ]
    },
    {
     "name": "stdout",
     "output_type": "stream",
     "text": [
      "Save Model : Epoch 2 | Trainloss 2.667605400085449| Valiloss 4.478421211242676\n"
     ]
    },
    {
     "name": "stderr",
     "output_type": "stream",
     "text": [
      "  0%|▏                                                                                                                                               | 3/2000 [12:20<137:32:14, 247.94s/it]"
     ]
    },
    {
     "name": "stdout",
     "output_type": "stream",
     "text": [
      "Save Model : Epoch 3 | Trainloss 2.6187219619750977| Valiloss 4.466000080108643\n"
     ]
    },
    {
     "name": "stderr",
     "output_type": "stream",
     "text": [
      "  0%|▎                                                                                                                                               | 4/2000 [16:36<139:09:39, 250.99s/it]"
     ]
    },
    {
     "name": "stdout",
     "output_type": "stream",
     "text": [
      "Save Model : Epoch 4 | Trainloss 2.5899758338928223| Valiloss 4.429870128631592\n"
     ]
    },
    {
     "name": "stderr",
     "output_type": "stream",
     "text": [
      "  0%|▍                                                                                                                                               | 6/2000 [25:01<139:50:13, 252.46s/it]"
     ]
    },
    {
     "name": "stdout",
     "output_type": "stream",
     "text": [
      "Save Model : Epoch 6 | Trainloss 2.547231674194336| Valiloss 4.425424575805664\n"
     ]
    },
    {
     "name": "stderr",
     "output_type": "stream",
     "text": [
      "  0%|▋                                                                                                                                               | 9/2000 [38:06<142:56:13, 258.45s/it]"
     ]
    },
    {
     "name": "stdout",
     "output_type": "stream",
     "text": [
      "Save Model : Epoch 9 | Trainloss 2.5078227519989014| Valiloss 4.413899898529053\n"
     ]
    },
    {
     "name": "stderr",
     "output_type": "stream",
     "text": [
      "  1%|█                                                                                                                                              | 14/2000 [59:57<144:12:10, 261.39s/it]"
     ]
    },
    {
     "name": "stdout",
     "output_type": "stream",
     "text": [
      "Save Model : Epoch 14 | Trainloss 2.4621458053588867| Valiloss 4.399220943450928\n"
     ]
    },
    {
     "name": "stderr",
     "output_type": "stream",
     "text": [
      "  1%|█                                                                                                                                            | 15/2000 [1:04:15<143:33:28, 260.36s/it]"
     ]
    },
    {
     "name": "stdout",
     "output_type": "stream",
     "text": [
      "Save Model : Epoch 15 | Trainloss 2.452589273452759| Valiloss 4.394375801086426\n"
     ]
    },
    {
     "name": "stderr",
     "output_type": "stream",
     "text": [
      "  1%|█▎                                                                                                                                           | 18/2000 [1:17:19<143:54:59, 261.40s/it]"
     ]
    },
    {
     "name": "stdout",
     "output_type": "stream",
     "text": [
      "Save Model : Epoch 18 | Trainloss 2.431213855743408| Valiloss 4.383485317230225\n"
     ]
    },
    {
     "name": "stderr",
     "output_type": "stream",
     "text": [
      "  1%|█▎                                                                                                                                           | 19/2000 [1:21:56<146:22:50, 266.01s/it]"
     ]
    },
    {
     "name": "stdout",
     "output_type": "stream",
     "text": [
      "Save Model : Epoch 19 | Trainloss 2.424161434173584| Valiloss 4.382511615753174\n"
     ]
    },
    {
     "name": "stderr",
     "output_type": "stream",
     "text": [
      "  1%|█▋                                                                                                                                           | 24/2000 [1:43:49<143:58:28, 262.30s/it]"
     ]
    },
    {
     "name": "stdout",
     "output_type": "stream",
     "text": [
      "Save Model : Epoch 24 | Trainloss 2.3949224948883057| Valiloss 4.380887508392334\n"
     ]
    },
    {
     "name": "stderr",
     "output_type": "stream",
     "text": [
      "  1%|██                                                                                                                                           | 29/2000 [2:06:09<146:08:38, 266.93s/it]"
     ]
    },
    {
     "name": "stdout",
     "output_type": "stream",
     "text": [
      "Save Model : Epoch 29 | Trainloss 2.367717981338501| Valiloss 4.372003078460693\n"
     ]
    },
    {
     "name": "stderr",
     "output_type": "stream",
     "text": [
      "  2%|██▎                                                                                                                                          | 32/2000 [2:19:33<146:15:57, 267.56s/it]"
     ]
    },
    {
     "name": "stdout",
     "output_type": "stream",
     "text": [
      "Save Model : Epoch 32 | Trainloss 2.3531835079193115| Valiloss 4.369251251220703\n"
     ]
    },
    {
     "name": "stderr",
     "output_type": "stream",
     "text": [
      "  2%|██▌                                                                                                                                          | 37/2000 [2:41:32<144:33:01, 265.10s/it]"
     ]
    },
    {
     "name": "stdout",
     "output_type": "stream",
     "text": [
      "Save Model : Epoch 37 | Trainloss 2.3296430110931396| Valiloss 4.362818241119385\n"
     ]
    },
    {
     "name": "stderr",
     "output_type": "stream",
     "text": [
      "  2%|███▍                                                                                                                                         | 48/2000 [3:30:57<147:24:58, 271.87s/it]"
     ]
    },
    {
     "name": "stdout",
     "output_type": "stream",
     "text": [
      "Save Model : Epoch 48 | Trainloss 2.287713050842285| Valiloss 4.337092399597168\n"
     ]
    },
    {
     "name": "stderr",
     "output_type": "stream",
     "text": [
      "  5%|███████                                                                                                                                     | 101/2000 [7:30:39<142:01:37, 269.25s/it]"
     ]
    },
    {
     "name": "stdout",
     "output_type": "stream",
     "text": [
      "Epoch 100 | Trainloss 2.110114574432373| Valiloss 4.369997978210449\n"
     ]
    },
    {
     "name": "stderr",
     "output_type": "stream",
     "text": [
      " 10%|█████████████▉                                                                                                                             | 201/2000 [13:58:55<113:09:48, 226.45s/it]"
     ]
    },
    {
     "name": "stdout",
     "output_type": "stream",
     "text": [
      "Epoch 200 | Trainloss 1.738579273223877| Valiloss 4.530508518218994\n"
     ]
    },
    {
     "name": "stderr",
     "output_type": "stream",
     "text": [
      " 15%|████████████████████▉                                                                                                                      | 301/2000 [20:36:09<108:35:10, 230.08s/it]"
     ]
    },
    {
     "name": "stdout",
     "output_type": "stream",
     "text": [
      "Epoch 300 | Trainloss 1.4397449493408203| Valiloss 4.675731182098389\n"
     ]
    },
    {
     "name": "stderr",
     "output_type": "stream",
     "text": [
      " 20%|███████████████████████████▊                                                                                                               | 401/2000 [27:32:50<117:02:17, 263.50s/it]"
     ]
    },
    {
     "name": "stdout",
     "output_type": "stream",
     "text": [
      "Epoch 400 | Trainloss 1.248345136642456| Valiloss 4.8093342781066895\n"
     ]
    },
    {
     "name": "stderr",
     "output_type": "stream",
     "text": [
      " 25%|██████████████████████████████████▊                                                                                                        | 501/2000 [35:12:52<110:53:23, 266.31s/it]"
     ]
    },
    {
     "name": "stdout",
     "output_type": "stream",
     "text": [
      "Epoch 500 | Trainloss 1.1258894205093384| Valiloss 4.886943340301514\n"
     ]
    },
    {
     "name": "stderr",
     "output_type": "stream",
     "text": [
      " 30%|█████████████████████████████████████████▊                                                                                                 | 601/2000 [42:32:44<103:18:54, 265.86s/it]"
     ]
    },
    {
     "name": "stdout",
     "output_type": "stream",
     "text": [
      "Epoch 600 | Trainloss 1.0490895509719849| Valiloss 5.0810346603393555\n"
     ]
    },
    {
     "name": "stderr",
     "output_type": "stream",
     "text": [
      " 32%|████████████████████████████████████████████▍                                                                                               | 634/2000 [45:04:08<97:06:17, 255.91s/it]\n"
     ]
    },
    {
     "ename": "KeyboardInterrupt",
     "evalue": "",
     "output_type": "error",
     "traceback": [
      "\u001b[0;31m---------------------------------------------------------------------------\u001b[0m",
      "\u001b[0;31mKeyboardInterrupt\u001b[0m                         Traceback (most recent call last)",
      "Cell \u001b[0;32mIn[15], line 7\u001b[0m\n\u001b[1;32m      5\u001b[0m losses\u001b[38;5;241m=\u001b[39m[]\n\u001b[1;32m      6\u001b[0m \u001b[38;5;28;01mfor\u001b[39;00m loader \u001b[38;5;129;01min\u001b[39;00m train_loader:\n\u001b[0;32m----> 7\u001b[0m     loss \u001b[38;5;241m=\u001b[39m \u001b[43mmodel\u001b[49m\u001b[38;5;241;43m.\u001b[39;49m\u001b[43mtrain\u001b[49m\u001b[43m(\u001b[49m\u001b[43mloader\u001b[49m\u001b[43m)\u001b[49m\n\u001b[1;32m      8\u001b[0m     losses\u001b[38;5;241m.\u001b[39mappend(loss)\n\u001b[1;32m      9\u001b[0m lossmean \u001b[38;5;241m=\u001b[39m torch\u001b[38;5;241m.\u001b[39mstack(losses,dim\u001b[38;5;241m=\u001b[39m\u001b[38;5;241m0\u001b[39m)\u001b[38;5;241m.\u001b[39mmean(dim\u001b[38;5;241m=\u001b[39m\u001b[38;5;241m0\u001b[39m)\n",
      "Cell \u001b[0;32mIn[2], line 38\u001b[0m, in \u001b[0;36mtwoinone.train\u001b[0;34m(self, dataloader)\u001b[0m\n\u001b[1;32m     36\u001b[0m \u001b[38;5;28;01mfor\u001b[39;00m i \u001b[38;5;129;01min\u001b[39;00m \u001b[38;5;28mrange\u001b[39m(\u001b[38;5;28mlen\u001b[39m(dataloader)):\n\u001b[1;32m     37\u001b[0m     data \u001b[38;5;241m=\u001b[39m dataloader[i]\n\u001b[0;32m---> 38\u001b[0m     outputs \u001b[38;5;241m=\u001b[39m \u001b[38;5;28;43mself\u001b[39;49m\u001b[38;5;241;43m.\u001b[39;49m\u001b[43mforward\u001b[49m\u001b[43m(\u001b[49m\u001b[43mdata\u001b[49m\u001b[38;5;241;43m.\u001b[39;49m\u001b[43mx\u001b[49m\u001b[38;5;241;43m.\u001b[39;49m\u001b[43mfloat\u001b[49m\u001b[43m(\u001b[49m\u001b[43m)\u001b[49m\u001b[43m)\u001b[49m\n\u001b[1;32m     39\u001b[0m     y \u001b[38;5;241m=\u001b[39m data\u001b[38;5;241m.\u001b[39my\u001b[38;5;241m.\u001b[39mto(device)\n\u001b[1;32m     40\u001b[0m     y \u001b[38;5;241m=\u001b[39m y\u001b[38;5;241m.\u001b[39mfloat()\n",
      "Cell \u001b[0;32mIn[2], line 29\u001b[0m, in \u001b[0;36mtwoinone.forward\u001b[0;34m(self, x)\u001b[0m\n\u001b[1;32m     27\u001b[0m x \u001b[38;5;241m=\u001b[39m x\u001b[38;5;241m.\u001b[39mrelu()\n\u001b[1;32m     28\u001b[0m x\u001b[38;5;241m=\u001b[39m\u001b[38;5;28mself\u001b[39m\u001b[38;5;241m.\u001b[39mnn4(x)\n\u001b[0;32m---> 29\u001b[0m x \u001b[38;5;241m=\u001b[39m \u001b[43mx\u001b[49m\u001b[38;5;241;43m.\u001b[39;49m\u001b[43mrelu\u001b[49m\u001b[43m(\u001b[49m\u001b[43m)\u001b[49m\n\u001b[1;32m     30\u001b[0m out \u001b[38;5;241m=\u001b[39m \u001b[38;5;28mself\u001b[39m\u001b[38;5;241m.\u001b[39mout(x)\n\u001b[1;32m     32\u001b[0m \u001b[38;5;28;01mreturn\u001b[39;00m out\n",
      "\u001b[0;31mKeyboardInterrupt\u001b[0m: "
     ]
    }
   ],
   "source": [
    "thresh = 500\n",
    "model_path = \"/home/chengc/workspace/cc/0815/model/qm_9_2in1_model.pth\"\n",
    "model_path_ckp = \"/home/chengc/workspace/cc/0815/model/qm_9_2in1_model_ckp.pth\"\n",
    "for epoch in trange(2000):\n",
    "    losses=[]\n",
    "    for loader in train_loader:\n",
    "        loss = model.train(loader)\n",
    "        losses.append(loss)\n",
    "    lossmean = torch.stack(losses,dim=0).mean(dim=0)\n",
    "    #print(lossmean)\n",
    "    vlosses=[]\n",
    "    for Vloader in val_loader:\n",
    "        vloss = model.val(Vloader)\n",
    "        vlosses.append(vloss)\n",
    "    vlossmean = torch.stack(vlosses,dim=0).mean(dim=0)\n",
    "    #print(vlossmean)\n",
    "    if vlossmean < thresh:\n",
    "    #and lossmean < 0.1:\n",
    "        print(f\"Save Model : Epoch {epoch} | Trainloss {lossmean}| Valiloss {vlossmean}\")\n",
    "        torch.save(model.state_dict(),model_path)\n",
    "        thresh = vlossmean\n",
    "    if (epoch % 100 == 0):\n",
    "        print(f\"Epoch {epoch} | Trainloss {lossmean}| Valiloss {vlossmean}\")\n",
    "        torch.save(model.state_dict(),model_path_ckp)"
   ]
  },
  {
   "cell_type": "code",
   "execution_count": null,
   "id": "d06ccf8d-0ba0-4b6b-b537-961913a87d3e",
   "metadata": {},
   "outputs": [],
   "source": [
    "#Save Model : Epoch 48 | Trainloss 2.287713050842285| Valiloss 4.337092399597168"
   ]
  }
 ],
 "metadata": {
  "kernelspec": {
   "display_name": "Python 3 (ipykernel)",
   "language": "python",
   "name": "python3"
  },
  "language_info": {
   "codemirror_mode": {
    "name": "ipython",
    "version": 3
   },
   "file_extension": ".py",
   "mimetype": "text/x-python",
   "name": "python",
   "nbconvert_exporter": "python",
   "pygments_lexer": "ipython3",
   "version": "3.9.18"
  }
 },
 "nbformat": 4,
 "nbformat_minor": 5
}
