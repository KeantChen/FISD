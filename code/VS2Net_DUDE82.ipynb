{
 "cells": [
  {
   "cell_type": "code",
   "execution_count": 1,
   "id": "f487abbe-c68b-40e1-b37f-a1a016017c07",
   "metadata": {},
   "outputs": [],
   "source": [
    "import numpy as np\n",
    "import pandas as pd\n",
    "import os\n",
    "import matplotlib.pyplot as plt\n",
    "import torch\n",
    "from torch_geometric.data import Data\n",
    "from torch_geometric.loader import DataLoader\n",
    "import torch.nn as nn\n",
    "from torch_geometric.nn import global_mean_pool\n",
    "from torch.utils.data import random_split\n",
    "from tqdm import trange"
   ]
  },
  {
   "cell_type": "code",
   "execution_count": 2,
   "id": "3f8dc42c-cec7-4281-a175-73bd795e0ab0",
   "metadata": {},
   "outputs": [],
   "source": [
    "train_data = torch.load('/home/chengc/workspace/cc/0815/data/cal_data/dude_82/train_data.pt')\n",
    "val_data = torch.load('/home/chengc/workspace/cc/0815/data/cal_data/dude_82/val_data.pt')"
   ]
  },
  {
   "cell_type": "code",
   "execution_count": 3,
   "id": "c869fc40-3526-4cc7-b497-d1a9efbcce6c",
   "metadata": {},
   "outputs": [],
   "source": [
    "class final_Classification_W(nn.Module):\n",
    "    \n",
    "    def __init__(self):\n",
    "        super().__init__()\n",
    "        torch.manual_seed(42)\n",
    "       \n",
    "        self.nn1 = nn.Linear(100, 128)\n",
    "        self.nn2 = nn.Linear(128,256)\n",
    "        self.nn3 = nn.Linear(256,128)\n",
    "        self.nn4 = nn.Linear(128,64)\n",
    "        self.nn5 = nn.Linear(64,32)\n",
    "        self.out = nn.Linear(32, 1)\n",
    "        #self.dropout = nn.Dropout(p=0.1)\n",
    "        \n",
    "        self.loss_function = nn.BCELoss()\n",
    "        self.optimizer = torch.optim.Adam(self.parameters(), lr=0.0001, weight_decay=5e-4)\n",
    "        self.counter=0\n",
    "        self.progress = []\n",
    "        \n",
    "    def forward(self,x):\n",
    "        \n",
    "        x = x.to(device)\n",
    "        x=self.nn1(x)\n",
    "        x = x.relu()\n",
    "        x=self.nn2(x)\n",
    "        x = x.relu()\n",
    "        x=self.nn3(x)\n",
    "        x = x.relu()\n",
    "        x=self.nn4(x)\n",
    "        x = x.relu()\n",
    "        x=self.nn5(x)\n",
    "        x = x.relu()        \n",
    "        out = self.out(x)\n",
    "        #out = self.dropout(out)\n",
    "        x = out.sigmoid() \n",
    "        return x\n",
    "    \n",
    "    def train(self,dataloader):\n",
    "        losses=[]\n",
    "        for i in range(len(dataloader)):\n",
    "            data = dataloader[i]\n",
    "            outputs = self.forward(data.x.float())\n",
    "            y = data.y.to(device)\n",
    "            y = y.float()\n",
    "            loss_t = self.loss_function(outputs,y)\n",
    "            losses.append(loss_t)\n",
    "        loss = torch.stack(losses,dim=0).mean(dim=0)\n",
    "        #self.counter += 1\n",
    "        #if (self.counter % 10 == 0):\n",
    "        self.progress.append(loss.item())\n",
    "            \n",
    "        #if (self.counter % 1000 == 0):\n",
    "            #print(f\"counter={self.counter}, loss={loss.item()}\")\n",
    "            \n",
    "        self.optimizer.zero_grad()\n",
    "        loss.backward()\n",
    "        self.optimizer.step()\n",
    "        return loss\n",
    "    \n",
    "\n",
    "    def pred(self,data):\n",
    "        output = self.forward(data.x.float())\n",
    "        return output\n",
    "\n",
    "def conf_matrix(dataset,model):\n",
    "    tp,fp,fn,tn = 0,0,0,0\n",
    "    for i in range(len(dataset)):\n",
    "        out = model.pred(dataset[i])\n",
    "        if dataset[i].y == 1 and out >= 0.5 :\n",
    "            tp += 1\n",
    "        elif dataset[i].y == 0 and out >= 0.5 :\n",
    "            fp += 1\n",
    "        elif dataset[i].y == 1 and out < 0.5 :\n",
    "            fn += 1\n",
    "        else:\n",
    "            tn += 1\n",
    "    return [tp,fp,fn,tn]\n",
    "\n",
    "def evaluation(tp,fp,fn,tn):\n",
    "    acc = (tp+tn) / (tp+fp+fn+tn)\n",
    "    pre = tp/(tp+fp)\n",
    "    recall = tp/(tp+fn)\n",
    "    f1 = (2*(tp/(tp+fn))*(tp/(tp+fp))) / ((tp/(tp+fn))+(tp/(tp+fp)))\n",
    "    return acc,pre,recall,f1\n",
    "\n",
    "def get_db(dataset,model):\n",
    "    db=[]\n",
    "    labels=[]\n",
    "    preds=[]\n",
    "    for data in dataset:\n",
    "        labels.append(data.y.numpy())\n",
    "        preds.append(model.pred(data).detach().cpu().numpy())\n",
    "    for i in range(len(labels)):\n",
    "        db.append([labels[i],preds[i]])\n",
    "    db = sorted(db,key=lambda x: x[1], reverse=True)\n",
    "    return db\n",
    "\n",
    "def roc_coord(db,tp,fp,fn,tn):\n",
    "    xy_arr = []\n",
    "    ttp,ffp = 0,0\n",
    "    neg = tn+fp\n",
    "    pos = tp+fn\n",
    "    for i in range(len(db)):\n",
    "        ttp += db[i][0]\n",
    "        ffp += 1 - db[i][0]\n",
    "        xy_arr.append([ffp/neg,ttp/pos])\n",
    "    return xy_arr\n",
    "\n",
    "def auc(xy_arr):\n",
    "    auc=0\n",
    "    prev_x=0\n",
    "    for x,y in xy_arr:\n",
    "        if x != prev_x:\n",
    "            auc += (x-prev_x) * y\n",
    "            prev_x = x\n",
    "    return auc"
   ]
  },
  {
   "cell_type": "code",
   "execution_count": 4,
   "id": "27dcd127-5bbb-4b47-b3ed-0229d2d38c7a",
   "metadata": {},
   "outputs": [
    {
     "data": {
      "text/plain": [
       "final_Classification_W(\n",
       "  (nn1): Linear(in_features=100, out_features=128, bias=True)\n",
       "  (nn2): Linear(in_features=128, out_features=256, bias=True)\n",
       "  (nn3): Linear(in_features=256, out_features=128, bias=True)\n",
       "  (nn4): Linear(in_features=128, out_features=64, bias=True)\n",
       "  (nn5): Linear(in_features=64, out_features=32, bias=True)\n",
       "  (out): Linear(in_features=32, out_features=1, bias=True)\n",
       "  (loss_function): BCELoss()\n",
       ")"
      ]
     },
     "execution_count": 4,
     "metadata": {},
     "output_type": "execute_result"
    }
   ],
   "source": [
    "train_loader = DataLoader(train_data, batch_size = 3072, shuffle = True)\n",
    "model = final_Classification_W()\n",
    "device = torch.device('cuda:3' if torch.cuda.is_available() else 'cpu')\n",
    "model.to(device)"
   ]
  },
  {
   "cell_type": "code",
   "execution_count": null,
   "id": "9b159080-6812-4ae5-8029-353da393ff33",
   "metadata": {},
   "outputs": [
    {
     "name": "stderr",
     "output_type": "stream",
     "text": [
      "  0%|▏                                                                                                                                                | 1/1000 [05:42<94:59:07, 342.29s/it]"
     ]
    },
    {
     "name": "stdout",
     "output_type": "stream",
     "text": [
      "___Epoch 0 | Trainloss 0.5226327776908875 | ValAuc 0.500986277205372 | ValAcc 0.9090909090909091\n",
      "___Epoch 0 | Trainloss 0.5226327776908875 | ValAuc 0.500986277205372 | ValAcc 0.9090909090909091\n"
     ]
    },
    {
     "name": "stderr",
     "output_type": "stream",
     "text": [
      "  0%|▎                                                                                                                                               | 2/1000 [12:12<102:45:45, 370.69s/it]"
     ]
    },
    {
     "name": "stdout",
     "output_type": "stream",
     "text": [
      "___Epoch 1 | Trainloss 0.3151915967464447 | ValAuc 0.5021975633387795 | ValAcc 0.9090909090909091\n"
     ]
    },
    {
     "name": "stderr",
     "output_type": "stream",
     "text": [
      "  0%|▍                                                                                                                                               | 3/1000 [18:22<102:34:27, 370.38s/it]"
     ]
    },
    {
     "name": "stdout",
     "output_type": "stream",
     "text": [
      "___Epoch 2 | Trainloss 0.31131917238235474 | ValAuc 0.504043317138138 | ValAcc 0.9090909090909091\n"
     ]
    },
    {
     "name": "stderr",
     "output_type": "stream",
     "text": [
      "  0%|▌                                                                                                                                               | 4/1000 [24:12<100:13:18, 362.25s/it]"
     ]
    },
    {
     "name": "stdout",
     "output_type": "stream",
     "text": [
      "___Epoch 3 | Trainloss 0.30988556146621704 | ValAuc 0.5062852318098005 | ValAcc 0.9090909090909091\n"
     ]
    },
    {
     "name": "stderr",
     "output_type": "stream",
     "text": [
      "  0%|▋                                                                                                                                                | 5/1000 [30:12<99:51:01, 361.27s/it]"
     ]
    },
    {
     "name": "stdout",
     "output_type": "stream",
     "text": [
      "___Epoch 4 | Trainloss 0.3086230456829071 | ValAuc 0.5096569502255507 | ValAcc 0.9090909090909091\n"
     ]
    },
    {
     "name": "stderr",
     "output_type": "stream",
     "text": [
      "  1%|▊                                                                                                                                                | 6/1000 [36:03<98:48:22, 357.85s/it]"
     ]
    },
    {
     "name": "stdout",
     "output_type": "stream",
     "text": [
      "___Epoch 5 | Trainloss 0.30920180678367615 | ValAuc 0.5130252531366176 | ValAcc 0.9090909090909091\n"
     ]
    },
    {
     "name": "stderr",
     "output_type": "stream",
     "text": [
      "  1%|█                                                                                                                                                | 7/1000 [42:13<99:48:01, 361.81s/it]"
     ]
    },
    {
     "name": "stdout",
     "output_type": "stream",
     "text": [
      "___Epoch 6 | Trainloss 0.3077200949192047 | ValAuc 0.5209421418529455 | ValAcc 0.9090909090909091\n"
     ]
    },
    {
     "name": "stderr",
     "output_type": "stream",
     "text": [
      "  1%|█▏                                                                                                                                               | 8/1000 [48:00<98:24:36, 357.13s/it]"
     ]
    },
    {
     "name": "stdout",
     "output_type": "stream",
     "text": [
      "___Epoch 7 | Trainloss 0.30527469515800476 | ValAuc 0.5276967041886669 | ValAcc 0.9090909090909091\n"
     ]
    },
    {
     "name": "stderr",
     "output_type": "stream",
     "text": [
      "  1%|█▎                                                                                                                                               | 9/1000 [53:57<98:19:17, 357.17s/it]"
     ]
    },
    {
     "name": "stdout",
     "output_type": "stream",
     "text": [
      "___Epoch 8 | Trainloss 0.30381280183792114 | ValAuc 0.5373818323278562 | ValAcc 0.9090909090909091\n"
     ]
    },
    {
     "name": "stderr",
     "output_type": "stream",
     "text": [
      "  1%|█▍                                                                                                                                              | 10/1000 [59:45<97:25:23, 354.27s/it]"
     ]
    },
    {
     "name": "stdout",
     "output_type": "stream",
     "text": [
      "___Epoch 9 | Trainloss 0.30474376678466797 | ValAuc 0.5511496438080672 | ValAcc 0.9090909090909091\n"
     ]
    },
    {
     "name": "stderr",
     "output_type": "stream",
     "text": [
      "  1%|█▌                                                                                                                                            | 11/1000 [1:05:34<96:55:17, 352.80s/it]"
     ]
    },
    {
     "name": "stdout",
     "output_type": "stream",
     "text": [
      "___Epoch 10 | Trainloss 0.30387574434280396 | ValAuc 0.5632012771978409 | ValAcc 0.9090909090909091\n"
     ]
    },
    {
     "name": "stderr",
     "output_type": "stream",
     "text": [
      "  1%|█▋                                                                                                                                            | 12/1000 [1:11:36<97:34:29, 355.54s/it]"
     ]
    },
    {
     "name": "stdout",
     "output_type": "stream",
     "text": [
      "___Epoch 11 | Trainloss 0.3024972379207611 | ValAuc 0.5805436152413895 | ValAcc 0.9090909090909091\n"
     ]
    }
   ],
   "source": [
    "thresh =0.92\n",
    "basic = \"/home/chengc/workspace/cc/0815/model\"\n",
    "model_path = os.path.join(basic,\"VS2Net_dude82.pth\")\n",
    "model_path_ckp = os.path.join(basic,\"VS2Net_dude82_ckp.pth\")\n",
    "#model.load_state_dict(torch.load(model_path_ckp))\n",
    "for epoch in trange(1000):\n",
    "    losses=[]\n",
    "    for loader in train_loader:\n",
    "        loss = model.train(loader)\n",
    "        losses.append(loss)\n",
    "    lossmean = torch.stack(losses,dim=0).mean(dim=0)\n",
    "    ttp,tfp,tfn,ttn = conf_matrix(val_data,model)\n",
    "    tdb = get_db(val_data,model)\n",
    "    txy_arr = roc_coord(tdb,ttp,tfp,tfn,ttn)\n",
    "    tauc = auc(txy_arr)\n",
    "    trecall = ttp/(ttp+tfn)\n",
    "    tacc = (ttp+ttn)/(ttp+tfp+tfn+ttn) \n",
    "    if tauc > thresh and tacc > 0.83:\n",
    "        print(f\"Epoch {epoch} | Trainloss {lossmean} | ValAuc {tauc} | ValAcc {tacc}\")\n",
    "        torch.save(model.state_dict(),model_path)\n",
    "        thresh = tauc\n",
    "    if epoch % 50 == 0 :\n",
    "        print(f\"___Epoch {epoch} | Trainloss {lossmean} | ValAuc {tauc} | ValAcc {tacc}\")\n",
    "        torch.save(model.state_dict(),model_path_ckp)\n",
    "    if epoch < 100 :\n",
    "        print(f\"___Epoch {epoch} | Trainloss {lossmean} | ValAuc {tauc} | ValAcc {tacc}\")"
   ]
  },
  {
   "cell_type": "code",
   "execution_count": null,
   "id": "e9e339b1-56ed-43f1-8ad4-a31ddc214ecb",
   "metadata": {},
   "outputs": [],
   "source": []
  }
 ],
 "metadata": {
  "kernelspec": {
   "display_name": "Python 3 (ipykernel)",
   "language": "python",
   "name": "python3"
  },
  "language_info": {
   "codemirror_mode": {
    "name": "ipython",
    "version": 3
   },
   "file_extension": ".py",
   "mimetype": "text/x-python",
   "name": "python",
   "nbconvert_exporter": "python",
   "pygments_lexer": "ipython3",
   "version": "3.9.18"
  }
 },
 "nbformat": 4,
 "nbformat_minor": 5
}
