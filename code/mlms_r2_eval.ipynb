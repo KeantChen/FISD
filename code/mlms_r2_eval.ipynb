{
 "cells": [
  {
   "cell_type": "code",
   "execution_count": null,
   "id": "2fa3f98a-66a8-40b3-9fc8-fc797b6bed21",
   "metadata": {},
   "outputs": [],
   "source": [
    "###r2---for MLMS_MSE"
   ]
  },
  {
   "cell_type": "code",
   "execution_count": null,
   "id": "6795740b-57d4-421f-90c9-3aae2eef885e",
   "metadata": {},
   "outputs": [],
   "source": [
    "import numpy as np\n",
    "import pandas as pd\n",
    "import os\n",
    "import matplotlib.pyplot as plt\n",
    "import torch\n",
    "from torch_geometric.loader import DataLoader\n",
    "import torch.nn as nn\n",
    "from torch_geometric.nn import GCNConv,EdgeConv\n",
    "from torch_geometric.nn import global_mean_pool,global_max_pool\n",
    "from torch.utils.data import random_split\n",
    "import torch.nn.functional as F\n",
    "from tqdm import trange"
   ]
  },
  {
   "cell_type": "code",
   "execution_count": null,
   "id": "9e86440a-e061-4b74-a140-afe5d371ff94",
   "metadata": {},
   "outputs": [],
   "source": [
    "hidden_channels = 512\n",
    "cos_ratio = 0\n",
    "mse_ratio = 1\n",
    "lr = 0.0001\n",
    "class GNN(nn.Module):\n",
    "    \n",
    "    def __init__(self):\n",
    "        super().__init__()\n",
    "        torch.manual_seed(42)\n",
    "       \n",
    "        self.conv1 = GCNConv(45, hidden_channels)\n",
    "        self.conv2 = GCNConv(hidden_channels,hidden_channels)\n",
    "        self.conv3 = GCNConv(hidden_channels,hidden_channels)\n",
    "        self.conv4 = GCNConv(hidden_channels,hidden_channels)\n",
    "        self.conv5 = GCNConv(hidden_channels,hidden_channels)\n",
    "        \n",
    "        self.lin1 = nn.Linear(2*hidden_channels,hidden_channels)\n",
    "        self.lin2 = nn.Linear(hidden_channels,hidden_channels)\n",
    "        self.out = nn.Linear(hidden_channels, 50)\n",
    "        \n",
    "        self.loss_function1 = nn.CosineEmbeddingLoss(margin=0)\n",
    "        self.loss_function2 = nn.MSELoss()\n",
    "        self.optimizer = torch.optim.Adam(self.parameters(), lr=lr, weight_decay=5e-4)\n",
    "        self.counter=0\n",
    "        self.progress = []\n",
    "        \n",
    "    def forward(self, x, edge_index, batch):\n",
    "        \n",
    "        x = x.to(device)\n",
    "        edge_index = edge_index.to(device)\n",
    "        batch = batch.to(device)\n",
    "        \n",
    "        x=self.conv1(x, edge_index)\n",
    "        x = x.relu()\n",
    "        x=self.conv2(x, edge_index)\n",
    "        x = x.relu()\n",
    "        x=self.conv3(x, edge_index)\n",
    "        x = x.relu()\n",
    "        x=self.conv4(x, edge_index)\n",
    "        x = x.relu()\n",
    "        x=self.conv5(x, edge_index)\n",
    "        x = x.relu()\n",
    "        \n",
    "        x = torch.cat((global_mean_pool(x,batch),global_max_pool(x,batch)),dim=1)\n",
    "        x = self.lin1(x)\n",
    "        x = x.relu()\n",
    "        x = self.lin2(x)\n",
    "        x = x.relu()\n",
    "        out = self.out(x)\n",
    "        return out\n",
    "    \n",
    "    def train(self,data):\n",
    "        \n",
    "        self.optimizer.zero_grad()\n",
    "        \n",
    "        outputs = self.forward(data.x.float(),data.edge_index,data.batch)\n",
    "        y = data.y.to(device)\n",
    "        batch_size = data.batch_size\n",
    "        target = torch.ones(batch_size)\n",
    "        target = target.to(device)\n",
    "        loss = cos_ratio*self.loss_function1(outputs.to(torch.float32),y.view(batch_size,50).to(torch.float32),target)+mse_ratio*self.loss_function2(outputs.to(torch.float32),y.view(batch_size,50).to(torch.float32))\n",
    "        \n",
    "        self.progress.append(loss.item())        \n",
    "        loss.backward()\n",
    "        self.optimizer.step()\n",
    "        \n",
    "        return loss\n",
    "        \n",
    "    def test(self,data):\n",
    "        outputs = self.forward(data.x.float(),data.edge_index,data.batch)\n",
    "        target = torch.ones(len(test_data))\n",
    "        target = target.to(device)\n",
    "        y = data.y.to(device)\n",
    "        acc = cos_ratio*self.loss_function1(outputs.to(torch.float32),y.view(len(test_data),50).to(torch.float32),target)+mse_ratio*self.loss_function2(outputs.to(torch.float32),y.view(len(test_data),50).to(torch.float32))\n",
    "        return acc\n",
    "    \n",
    "    def pred(self,data):\n",
    "        outputs = self.forward(data.x.float(),data.edge_index,data.batch)\n",
    "        return outputs\n",
    "    "
   ]
  },
  {
   "cell_type": "code",
   "execution_count": null,
   "id": "1b657f18-29c9-417a-9bb7-209e5ae367e9",
   "metadata": {},
   "outputs": [],
   "source": [
    "device = torch.device('cuda:4' if torch.cuda.is_available() else 'cpu')\n",
    "model = GNN()\n",
    "model.load_state_dict(torch.load(\"/home/chengc/workspace/cc/0815/model/qm_9_mse_model.pth\"))\n",
    "model.to(device)"
   ]
  },
  {
   "cell_type": "code",
   "execution_count": null,
   "id": "0ceefa74-6c9f-4ad7-920c-6356ff9689f2",
   "metadata": {},
   "outputs": [],
   "source": [
    "raw_data = torch.load(\"/home/chengc/workspace/cc/new_exp_0427/data/qm9_ir_broaden/qm9_input.pt\")\n",
    "num_train = int(len(raw_data)*0.8)\n",
    "num_val = int(len(raw_data)-num_train)\n",
    "train_data,test_data = random_split(dataset = raw_data,lengths = [num_train,num_val],generator = torch.Generator().manual_seed(42))\n",
    "batch_size = 64\n",
    "train_loader = DataLoader(train_data, batch_size = batch_size, shuffle = True)\n",
    "test_loader = DataLoader(test_data, batch_size = len(test_data))"
   ]
  },
  {
   "cell_type": "code",
   "execution_count": null,
   "id": "2a23b649-6ca8-426c-bb15-5a2262f627ea",
   "metadata": {},
   "outputs": [],
   "source": [
    "from sklearn.metrics import r2_score"
   ]
  },
  {
   "cell_type": "code",
   "execution_count": null,
   "id": "cfcb2d7f-1023-443e-aa7c-e59ddb0e0080",
   "metadata": {},
   "outputs": [],
   "source": [
    "result = model.pred(next(iter(test_loader)))"
   ]
  },
  {
   "cell_type": "code",
   "execution_count": null,
   "id": "ab3feca3-64ca-4ceb-9d61-ee1b93266960",
   "metadata": {},
   "outputs": [],
   "source": [
    "real = next(iter(test_loader)).y"
   ]
  },
  {
   "cell_type": "code",
   "execution_count": null,
   "id": "aca33dbd-ab3d-473c-a6f0-9945898abfd1",
   "metadata": {},
   "outputs": [],
   "source": [
    "y_true = real[0:50]\n",
    "y_pred = result[0].detach().cpu()\n",
    "r2 = r2_score(y_true, y_pred)  \n",
    "print(f'R^2: {r2}')"
   ]
  },
  {
   "cell_type": "code",
   "execution_count": null,
   "id": "c15857a8-cb92-4cd3-a1f2-475069e568ad",
   "metadata": {},
   "outputs": [],
   "source": [
    "r2_list = []\n",
    "for i in trange(len(result)):\n",
    "    y_true = real[(0+i*50):(50+i*50)]\n",
    "    y_pred = result[i].detach().cpu()\n",
    "    r2 = r2_score(y_true, y_pred)\n",
    "    r2_list.append(r2)"
   ]
  },
  {
   "cell_type": "code",
   "execution_count": null,
   "id": "fc2a45cf-e690-493d-8a24-1c0bfb817a20",
   "metadata": {},
   "outputs": [],
   "source": [
    "np.mean(r2_list)###1000轮 0.8375630424836698"
   ]
  },
  {
   "cell_type": "code",
   "execution_count": null,
   "id": "d01185b5-821b-4889-9fcd-42e9fc50c647",
   "metadata": {},
   "outputs": [],
   "source": []
  },
  {
   "cell_type": "code",
   "execution_count": null,
   "id": "0051be05-46b0-46bf-9db1-9f5970f6a7c5",
   "metadata": {},
   "outputs": [],
   "source": [
    "### r2 for MLMS_2IN1"
   ]
  },
  {
   "cell_type": "code",
   "execution_count": 1,
   "id": "3c7a09db-a923-49cf-a639-c30a0ff8bca3",
   "metadata": {},
   "outputs": [],
   "source": [
    "import numpy as np\n",
    "import pandas as pd\n",
    "import os\n",
    "import matplotlib.pyplot as plt\n",
    "import torch\n",
    "from torch_geometric.loader import DataLoader\n",
    "import torch.nn as nn\n",
    "from torch.utils.data import random_split\n",
    "from tqdm import trange\n",
    "from sklearn.metrics import r2_score"
   ]
  },
  {
   "cell_type": "code",
   "execution_count": 2,
   "id": "b980e8d5-d279-4fe2-8cce-34bc9a84f5b2",
   "metadata": {},
   "outputs": [],
   "source": [
    "hidden_channels = 256\n",
    "class twoinone(nn.Module):\n",
    "    \n",
    "    def __init__(self):\n",
    "        super().__init__()\n",
    "        torch.manual_seed(42)\n",
    "       \n",
    "        self.nn1 = nn.Linear(100, hidden_channels*2)\n",
    "        self.nn2 = nn.Linear(hidden_channels*2,hidden_channels*2)\n",
    "        self.nn3 = nn.Linear(hidden_channels*2,hidden_channels*2)\n",
    "        self.nn4 = nn.Linear(hidden_channels*2,hidden_channels*2)\n",
    "        self.out = nn.Linear(hidden_channels*2, 50)\n",
    "        \n",
    "        self.loss_function = nn.MSELoss()\n",
    "        self.optimizer = torch.optim.Adam(self.parameters(), lr=0.0001, weight_decay=5e-4)\n",
    "        self.counter=0\n",
    "        self.progress = []\n",
    "        \n",
    "    def forward(self,x):\n",
    "        \n",
    "        x = x.to(device)\n",
    "        x=self.nn1(x)\n",
    "        x = x.relu()\n",
    "        x=self.nn2(x)\n",
    "        x = x.relu()\n",
    "        x=self.nn3(x)\n",
    "        x = x.relu()\n",
    "        x=self.nn4(x)\n",
    "        x = x.relu()\n",
    "        out = self.out(x)\n",
    "        \n",
    "        return out\n",
    "    \n",
    "    def train(self,dataloader):\n",
    "        losses=[]\n",
    "        for i in range(len(dataloader)):\n",
    "            data = dataloader[i]\n",
    "            outputs = self.forward(data.x.float())\n",
    "            y = data.y.to(device)\n",
    "            y = y.float()\n",
    "            loss_t = self.loss_function(outputs.to(torch.float32),y.to(torch.float32))\n",
    "            losses.append(loss_t)\n",
    "        loss = torch.stack(losses,dim=0).mean(dim=0)        \n",
    "        #outputs = self.forward(data.x.float())\n",
    "        #y = data.y.to(device)\n",
    "        #y = y.float()\n",
    "        #loss = self.loss_function(outputs.to(torch.float32),y.to(torch.float32))\n",
    "       \n",
    "        self.optimizer.zero_grad()\n",
    "        loss.backward()\n",
    "        self.optimizer.step()\n",
    "        return loss\n",
    "    \n",
    "    def val(self,dataloader):\n",
    "        losses=[]\n",
    "        for i in range(len(dataloader)):\n",
    "            data = dataloader[i]\n",
    "            outputs = self.forward(data.x.float())\n",
    "            y = data.y.to(device)\n",
    "            y = y.float()\n",
    "            loss_t = self.loss_function(outputs.to(torch.float32),y.to(torch.float32))\n",
    "            losses.append(loss_t)\n",
    "        loss = torch.stack(losses,dim=0).mean(dim=0)\n",
    "        return loss\n",
    "    \n",
    "    def pred(self,data):\n",
    "        output = self.forward(data.x.float())\n",
    "        return output"
   ]
  },
  {
   "cell_type": "code",
   "execution_count": 3,
   "id": "9852c2a0-2dfc-4b42-8a56-24b71f5aec9c",
   "metadata": {},
   "outputs": [
    {
     "data": {
      "text/plain": [
       "twoinone(\n",
       "  (nn1): Linear(in_features=100, out_features=512, bias=True)\n",
       "  (nn2): Linear(in_features=512, out_features=512, bias=True)\n",
       "  (nn3): Linear(in_features=512, out_features=512, bias=True)\n",
       "  (nn4): Linear(in_features=512, out_features=512, bias=True)\n",
       "  (out): Linear(in_features=512, out_features=50, bias=True)\n",
       "  (loss_function): MSELoss()\n",
       ")"
      ]
     },
     "execution_count": 3,
     "metadata": {},
     "output_type": "execute_result"
    }
   ],
   "source": [
    "device = torch.device('cuda:1' if torch.cuda.is_available() else 'cpu')\n",
    "model = twoinone()\n",
    "model.load_state_dict(torch.load(\"/home/chengc/workspace/cc/0815/model/qm_9_2in1_model.pth\"))\n",
    "model.to(device)"
   ]
  },
  {
   "cell_type": "code",
   "execution_count": 4,
   "id": "f7f4c15e-80f3-445a-95c4-2e8d3756e25f",
   "metadata": {},
   "outputs": [],
   "source": [
    "data = torch.load(\"/home/chengc/workspace/cc/0815/qm_9_2in1.pt\")\n",
    "train_data,val_data,test_data = random_split(dataset = data,lengths = [100000,20000,7468],generator = torch.Generator().manual_seed(42))"
   ]
  },
  {
   "cell_type": "code",
   "execution_count": 7,
   "id": "daa853d0-08d4-489b-8e4f-4e3ccbcf9834",
   "metadata": {},
   "outputs": [
    {
     "name": "stderr",
     "output_type": "stream",
     "text": [
      "100%|█████████████████████████████████████████████████████████████████████████████████████████████████████████████████████████████████████████████████| 7468/7468 [00:10<00:00, 718.52it/s]\n"
     ]
    },
    {
     "data": {
      "text/plain": [
       "0.8469676325560166"
      ]
     },
     "execution_count": 7,
     "metadata": {},
     "output_type": "execute_result"
    }
   ],
   "source": [
    "#test_r2\n",
    "r2_list = []\n",
    "for i in trange(len(test_data)):\n",
    "    y_true = test_data[i].y\n",
    "    y_pred = model.pred(test_data[i]).detach().cpu()\n",
    "    r2 = r2_score(y_true, y_pred) \n",
    "    r2_list.append(r2)\n",
    "np.mean(r2_list)"
   ]
  },
  {
   "cell_type": "code",
   "execution_count": 8,
   "id": "3fdf378e-ce57-4c97-ab13-ebac6da77dc5",
   "metadata": {},
   "outputs": [
    {
     "name": "stderr",
     "output_type": "stream",
     "text": [
      "100%|███████████████████████████████████████████████████████████████████████████████████████████████████████████████████████████████████████████████| 20000/20000 [00:25<00:00, 799.38it/s]\n"
     ]
    },
    {
     "data": {
      "text/plain": [
       "0.8513208359148543"
      ]
     },
     "execution_count": 8,
     "metadata": {},
     "output_type": "execute_result"
    }
   ],
   "source": [
    "#val_r2\n",
    "r2_list = []\n",
    "for i in trange(len(val_data)):\n",
    "    y_true = val_data[i].y\n",
    "    y_pred = model.pred(val_data[i]).detach().cpu()\n",
    "    r2 = r2_score(y_true, y_pred) \n",
    "    r2_list.append(r2)\n",
    "np.mean(r2_list)"
   ]
  },
  {
   "cell_type": "code",
   "execution_count": 9,
   "id": "39a29963-73b3-469b-9ade-fc1dc0692e77",
   "metadata": {},
   "outputs": [
    {
     "name": "stderr",
     "output_type": "stream",
     "text": [
      "100%|█████████████████████████████████████████████████████████████████████████████████████████████████████████████████████████████████████████████| 100000/100000 [02:08<00:00, 777.15it/s]\n"
     ]
    },
    {
     "data": {
      "text/plain": [
       "0.9171942400406787"
      ]
     },
     "execution_count": 9,
     "metadata": {},
     "output_type": "execute_result"
    }
   ],
   "source": [
    "#train_r2\n",
    "r2_list = []\n",
    "for i in trange(len(train_data)):\n",
    "    y_true = train_data[i].y\n",
    "    y_pred = model.pred(train_data[i]).detach().cpu()\n",
    "    r2 = r2_score(y_true, y_pred) \n",
    "    r2_list.append(r2)\n",
    "np.mean(r2_list)"
   ]
  },
  {
   "cell_type": "code",
   "execution_count": null,
   "id": "012e9885-3f47-403a-b46e-42df1abefe06",
   "metadata": {},
   "outputs": [],
   "source": []
  }
 ],
 "metadata": {
  "kernelspec": {
   "display_name": "Python 3 (ipykernel)",
   "language": "python",
   "name": "python3"
  },
  "language_info": {
   "codemirror_mode": {
    "name": "ipython",
    "version": 3
   },
   "file_extension": ".py",
   "mimetype": "text/x-python",
   "name": "python",
   "nbconvert_exporter": "python",
   "pygments_lexer": "ipython3",
   "version": "3.9.18"
  }
 },
 "nbformat": 4,
 "nbformat_minor": 5
}
